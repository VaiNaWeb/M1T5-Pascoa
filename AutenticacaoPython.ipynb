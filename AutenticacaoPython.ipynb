{
  "nbformat": 4,
  "nbformat_minor": 0,
  "metadata": {
    "colab": {
      "name": "Untitled10.ipynb",
      "provenance": [],
      "include_colab_link": true
    },
    "kernelspec": {
      "name": "python3",
      "display_name": "Python 3"
    },
    "language_info": {
      "name": "python"
    }
  },
  "cells": [
    {
      "cell_type": "markdown",
      "metadata": {
        "id": "view-in-github",
        "colab_type": "text"
      },
      "source": [
        "<a href=\"https://colab.research.google.com/github/pamelaferreiralima/M1T5-Pascoa/blob/master/AutenticacaoPython.ipynb\" target=\"_parent\"><img src=\"https://colab.research.google.com/assets/colab-badge.svg\" alt=\"Open In Colab\"/></a>"
      ]
    },
    {
      "cell_type": "markdown",
      "source": [
        "Altere o código da última versão para melhorar a leitura do telefone, de modo a não aceitar entrada com poucos dígitos e formatá-lo melhor após a digitação (ex.: (11) 98888-1234 ao invés de 11988881234)."
      ],
      "metadata": {
        "id": "kk7bRlJ7cc0L"
      }
    },
    {
      "cell_type": "code",
      "execution_count": null,
      "metadata": {
        "colab": {
          "base_uri": "https://localhost:8080/"
        },
        "id": "AoyQe-Zwca9T",
        "outputId": "239c3a81-09bb-4148-aefb-32fd984234e1"
      },
      "outputs": [
        {
          "output_type": "stream",
          "name": "stdout",
          "text": [
            "Insira seu telefone (10 a 11 dígitos): 11987654321\n",
            "(11) 9 8765-4321\n"
          ]
        }
      ],
      "source": [
        "\n",
        "while True:\n",
        "  entrada = input('Insira seu telefone (10 a 11 dígitos): ')\n",
        "  if len(entrada)>=10 and len(entrada)<=11:\n",
        "    break\n",
        "  else: print('Tente novamente....')\n",
        "\n",
        "if len(entrada) == 10:\n",
        "  saida = '(' + entrada[0:2] + ') ' + entrada[2:6] + '-' + entrada[6:10]\n",
        "else: saida = f'({entrada[0:2]}) {entrada[2]} {entrada[3:7]}-{entrada[7:11]}'\n",
        "\n",
        "print(saida)"
      ]
    },
    {
      "cell_type": "code",
      "source": [
        "import getpass\n",
        "autenticacao = {'admin':'123456', 'gerente':'ger123'}\n",
        "login = input('Login: ')\n",
        "senha = getpass.getpass('Senha: ')\n"
      ],
      "metadata": {
        "colab": {
          "base_uri": "https://localhost:8080/"
        },
        "id": "CTGcmC6GmGDb",
        "outputId": "6841c4af-0ca5-4646-c3b6-202b16d79177"
      },
      "execution_count": null,
      "outputs": [
        {
          "name": "stdout",
          "output_type": "stream",
          "text": [
            "Login: admin\n",
            "Senha: ··········\n"
          ]
        }
      ]
    },
    {
      "cell_type": "code",
      "source": [
        "if login in autenticacao.keys(): # login existe??\n",
        "  if autenticacao[login] == senha: # a senha bate??\n",
        "    print('Usuário autenticado!!')\n",
        "  else: print('Senha incorreta..')\n",
        "else: print('O login digitado não existe')"
      ],
      "metadata": {
        "colab": {
          "base_uri": "https://localhost:8080/"
        },
        "id": "WY21KWJOm4gt",
        "outputId": "c4e86283-27a5-49f0-93b5-0a561354017f"
      },
      "execution_count": null,
      "outputs": [
        {
          "output_type": "stream",
          "name": "stdout",
          "text": [
            "Senha incorreta..\n"
          ]
        }
      ]
    }
  ]
}